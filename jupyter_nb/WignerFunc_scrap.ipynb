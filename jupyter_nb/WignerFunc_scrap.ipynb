{
 "cells": [
  {
   "cell_type": "code",
   "execution_count": 1,
   "id": "d7e75797",
   "metadata": {
    "ExecuteTime": {
     "end_time": "2021-11-18T09:22:47.630593Z",
     "start_time": "2021-11-18T09:22:47.481326Z"
    }
   },
   "outputs": [],
   "source": [
    "import WignerFunctionMeasurement as WFM"
   ]
  },
  {
   "cell_type": "code",
   "execution_count": 2,
   "id": "b7ade09f",
   "metadata": {
    "ExecuteTime": {
     "end_time": "2021-11-18T09:22:47.634464Z",
     "start_time": "2021-11-18T09:22:47.632001Z"
    }
   },
   "outputs": [],
   "source": [
    "fpath = '../tests/test_data/'"
   ]
  },
  {
   "cell_type": "code",
   "execution_count": 3,
   "id": "8f0d6030",
   "metadata": {
    "ExecuteTime": {
     "end_time": "2021-11-18T09:22:48.005197Z",
     "start_time": "2021-11-18T09:22:47.636115Z"
    }
   },
   "outputs": [
    {
     "name": "stderr",
     "output_type": "stream",
     "text": [
      "ERROR:WignerFunctionMeasurement:data file has wrong data format\n",
      "ERROR:WignerFunctionMeasurement:\n",
      "Traceback (most recent call last):\n",
      "  File \"/home/ngchihuan/research/programs/python/work_ongit/WignerFunc_Measurement/src/WignerFunctionMeasurement.py\", line 188, in extract_xy\n",
      "    self.xy['x'], self.xy['y'], self.xy['yerr'] = tuple(np.genfromtxt(self.fname))\n",
      "ValueError: too many values to unpack (expected 3)\n",
      "\n",
      "During handling of the above exception, another exception occurred:\n",
      "\n",
      "Traceback (most recent call last):\n",
      "  File \"/home/ngchihuan/research/programs/python/work_ongit/WignerFunc_Measurement/src/WignerFunctionMeasurement.py\", line 219, in eval_parity\n",
      "    res = self.extract_pop()\n",
      "  File \"/home/ngchihuan/research/programs/python/work_ongit/WignerFunc_Measurement/src/WignerFunctionMeasurement.py\", line 212, in extract_pop\n",
      "    raise err\n",
      "  File \"/home/ngchihuan/research/programs/python/work_ongit/WignerFunc_Measurement/src/WignerFunctionMeasurement.py\", line 202, in extract_pop\n",
      "    self.extract_xy()\n",
      "  File \"/home/ngchihuan/research/programs/python/work_ongit/WignerFunc_Measurement/src/WignerFunctionMeasurement.py\", line 196, in extract_xy\n",
      "    raise ValueError\n",
      "ValueError\n",
      "ERROR:WignerFunctionMeasurement:divide by zero encountered in true_divide\n",
      "Traceback (most recent call last):\n",
      "  File \"/home/ngchihuan/research/programs/python/work_ongit/WignerFunc_Measurement/src/WignerFunctionMeasurement.py\", line 219, in eval_parity\n",
      "    res = self.extract_pop()\n",
      "  File \"/home/ngchihuan/research/programs/python/work_ongit/WignerFunc_Measurement/src/WignerFunctionMeasurement.py\", line 212, in extract_pop\n",
      "    raise err\n",
      "  File \"/home/ngchihuan/research/programs/python/work_ongit/WignerFunc_Measurement/src/WignerFunctionMeasurement.py\", line 207, in extract_pop\n",
      "    self.fit_res = fit.fit_sum_multi_sine_offset(x, y, yerr, self.weight, self.Omega_0, self.gamma, offset = self.offset, rsb=False\\\n",
      "  File \"/home/ngchihuan/research/programs/python/work_ongit/WignerFunc_Measurement/src/fit.py\", line 193, in fit_sum_multi_sine_offset\n",
      "    res = fit_leastsq(p0, t, y, yerr, fit_func, [\n",
      "  File \"/home/ngchihuan/research/programs/python/work_ongit/WignerFunc_Measurement/src/fit.py\", line 103, in fit_leastsq\n",
      "    pfit, pcov = curve_fit(func_fit, x, y, p0, sigma=yerr, bounds=bounds)\n",
      "  File \"/usr/lib/python3/dist-packages/scipy/optimize/minpack.py\", line 729, in curve_fit\n",
      "    transform = 1.0 / sigma\n",
      "FloatingPointError: divide by zero encountered in true_divide\n"
     ]
    },
    {
     "name": "stdout",
     "output_type": "stream",
     "text": [
      "\n",
      "upper_bounds is  [1.0, 1.0, 1.0, 0.052500000000000005, 0.0008399999999999999]\n",
      "lower_bounds is  [0.0, 0.0, 0.0, 0.0475, 0.0005600000000000001]\n",
      "Omega fit  0.0525\n",
      "gamma fit  0.0008399999999999998\n",
      "Error Omega 0.001\n",
      "Pi time fit 59.84\n",
      "Weights [0.441 0.187 0.372]\n",
      "Errors of weights [0.055 0.067 0.   ]\n",
      "reduced chi square 18.710078444505402\n",
      "upper_bounds is  [1.0, 1.0, 1.0, 0.052500000000000005, 0.0008399999999999999]\n",
      "lower_bounds is  [0.0, 0.0, 0.0, 0.0475, 0.0005600000000000001]\n",
      "Omega fit  0.0525\n",
      "gamma fit  0.0008399999999999998\n",
      "Error Omega 0.0\n",
      "Pi time fit 59.84\n",
      "Weights [0.537 0.125 0.338]\n",
      "Errors of weights [0.042 0.049 0.   ]\n",
      "reduced chi square 8.847694095397937\n",
      "upper_bounds is  [1.0, 1.0, 1.0, 0.052500000000000005, 0.0008399999999999999]\n",
      "lower_bounds is  [0.0, 0.0, 0.0, 0.0475, 0.0005600000000000001]\n",
      "Omega fit  0.0475\n",
      "gamma fit  0.0005600000000000002\n",
      "Error Omega 0.002\n",
      "Pi time fit 66.139\n",
      "Weights [ 1.  0. -0.]\n",
      "Errors of weights [0.131 0.115 0.   ]\n",
      "reduced chi square 6503.394335704368\n",
      "divide by zero encountered in true_divide\n"
     ]
    }
   ],
   "source": [
    "w1 = WFM.WignerFunc_Measurement(fpath)\n",
    "w1.setup_sbs()"
   ]
  },
  {
   "cell_type": "code",
   "execution_count": 4,
   "id": "fc71edcb",
   "metadata": {
    "ExecuteTime": {
     "end_time": "2021-11-18T09:22:48.010983Z",
     "start_time": "2021-11-18T09:22:48.006851Z"
    }
   },
   "outputs": [
    {
     "name": "stdout",
     "output_type": "stream",
     "text": [
      "Report summary \n",
      "\n",
      "  id  filepath                                                                          parity  Errors\n",
      "----  ------------------------------------------------------------------------------  --------  -----------------------------------------------------------------\n",
      "   0  ../tests/test_data/r1op bsb delay scan after sbc Xcohex 50us phase 0                      [ValueError()]\n",
      "   1  ../tests/test_data/r1op bsb delay scan after sbc Xcohex 50us phase 0 processed  0.625187  []\n",
      "   2  ../tests/test_data/r1op bsb delay scan after sbc Xcohex 80us phase 0 processed  0.749131  []\n",
      "   3  ../tests/test_data/r1op bsb delay scan after sbc_processed                      1         []\n",
      "   4  ../tests/test_data/r1op rsb delay scan after sbc 5r1op_processed                          [FloatingPointError('divide by zero encountered in true_divide')]\n"
     ]
    }
   ],
   "source": [
    "w1.print_report()"
   ]
  },
  {
   "cell_type": "code",
   "execution_count": 13,
   "id": "dce94700",
   "metadata": {
    "ExecuteTime": {
     "end_time": "2021-11-18T09:23:05.289745Z",
     "start_time": "2021-11-18T09:23:05.214791Z"
    }
   },
   "outputs": [
    {
     "name": "stdout",
     "output_type": "stream",
     "text": [
      "Refitting Sideband measurement ../tests/test_data/r1op bsb delay scan after sbc Xcohex 50us phase 0 processed\n",
      "upper_bounds is  [1.0, 1.0, 1.0, 1.0, 1.0, 0.052500000000000005, 0.0008399999999999999]\n",
      "lower_bounds is  [0.0, 0.0, 0.0, 0.0, 0.0, 0.0475, 0.0005600000000000001]\n",
      "Omega fit  0.048079\n",
      "gamma fit  0.0007638489373309566\n",
      "Error Omega 0.0\n",
      "Pi time fit 65.343\n",
      "Weights [0.    0.093 0.236 0.    0.671]\n",
      "Errors of weights [0.044 0.048 0.05  0.093 0.   ]\n",
      "reduced chi square 11.306002144037148\n"
     ]
    }
   ],
   "source": [
    "weights = [0, 0, 1, 0, 0]\n",
    "\n",
    "w1.refit(1,weights=weights)"
   ]
  },
  {
   "cell_type": "code",
   "execution_count": 11,
   "id": "41444d2d",
   "metadata": {
    "ExecuteTime": {
     "end_time": "2021-11-18T09:22:57.569389Z",
     "start_time": "2021-11-18T09:22:57.557261Z"
    }
   },
   "outputs": [
    {
     "name": "stdout",
     "output_type": "stream",
     "text": [
      "Report summary \n",
      "\n",
      "  id  filepath                                                                          parity  Errors\n",
      "----  ------------------------------------------------------------------------------  --------  -----------------------------------------------------------------\n",
      "   0  ../tests/test_data/r1op bsb delay scan after sbc Xcohex 50us phase 0                      [ValueError()]\n",
      "   1  ../tests/test_data/r1op bsb delay scan after sbc Xcohex 50us phase 0 processed  0.814109  []\n",
      "   2  ../tests/test_data/r1op bsb delay scan after sbc Xcohex 80us phase 0 processed  0.749131  []\n",
      "   3  ../tests/test_data/r1op bsb delay scan after sbc_processed                      1         []\n",
      "   4  ../tests/test_data/r1op rsb delay scan after sbc 5r1op_processed                          [FloatingPointError('divide by zero encountered in true_divide')]\n"
     ]
    }
   ],
   "source": [
    "w1.print_report()"
   ]
  },
  {
   "cell_type": "code",
   "execution_count": null,
   "id": "9460c069",
   "metadata": {},
   "outputs": [],
   "source": []
  }
 ],
 "metadata": {
  "kernelspec": {
   "display_name": "Python 3 (ipykernel)",
   "language": "python",
   "name": "python3"
  },
  "language_info": {
   "codemirror_mode": {
    "name": "ipython",
    "version": 3
   },
   "file_extension": ".py",
   "mimetype": "text/x-python",
   "name": "python",
   "nbconvert_exporter": "python",
   "pygments_lexer": "ipython3",
   "version": "3.8.10"
  },
  "toc": {
   "base_numbering": 1,
   "nav_menu": {
    "height": "134px",
    "width": "195.133px"
   },
   "number_sections": true,
   "sideBar": true,
   "skip_h1_title": false,
   "title_cell": "Table of Contents",
   "title_sidebar": "Contents",
   "toc_cell": false,
   "toc_position": {},
   "toc_section_display": true,
   "toc_window_display": false
  }
 },
 "nbformat": 4,
 "nbformat_minor": 5
}
