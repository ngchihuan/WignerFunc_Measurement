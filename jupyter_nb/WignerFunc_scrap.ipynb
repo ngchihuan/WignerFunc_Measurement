{
 "cells": [
  {
   "cell_type": "code",
   "execution_count": 1,
   "id": "d7e75797",
   "metadata": {
    "ExecuteTime": {
     "end_time": "2021-11-19T05:07:23.575256Z",
     "start_time": "2021-11-19T05:07:23.212299Z"
    }
   },
   "outputs": [],
   "source": [
    "import WignerFunctionMeasurement as WFM"
   ]
  },
  {
   "cell_type": "code",
   "execution_count": 2,
   "id": "b7ade09f",
   "metadata": {
    "ExecuteTime": {
     "end_time": "2021-11-19T05:07:23.580192Z",
     "start_time": "2021-11-19T05:07:23.577412Z"
    }
   },
   "outputs": [],
   "source": [
    "fpath = '../tests/test_data/'"
   ]
  },
  {
   "cell_type": "code",
   "execution_count": 3,
   "id": "8f0d6030",
   "metadata": {
    "ExecuteTime": {
     "end_time": "2021-11-19T05:07:23.956011Z",
     "start_time": "2021-11-19T05:07:23.581959Z"
    }
   },
   "outputs": [
    {
     "name": "stdout",
     "output_type": "stream",
     "text": [
      "Scanning the directory\n",
      "Discovered 5 files in the directory\n",
      "Validating files\n"
     ]
    },
    {
     "name": "stderr",
     "output_type": "stream",
     "text": [
      "SBM: Evaluate parity of ../tests/test_data/r1op bsb delay scan after sbc Xcohex 50us phase 0 processed\n",
      "SBM: Evaluate parity of ../tests/test_data/r1op bsb delay scan after sbc Xcohex 80us phase 0 processed\n",
      "SBM: Evaluate parity of ../tests/test_data/r1op bsb delay scan after sbc_processed\n",
      "SBM: Evaluate parity of ../tests/test_data/r1op rsb delay scan after sbc 5r1op_processed\n"
     ]
    },
    {
     "name": "stdout",
     "output_type": "stream",
     "text": [
      "Discovered 4 valid files with right data format\n",
      "\n",
      "Report summary \n",
      "\n",
      "  id  folder     filename                                                       parity  Errors\n",
      "----  ---------  -----------------------------------------------------------  --------  ----------------------------------------\n",
      "   0  test_data  r1op bsb delay scan after sbc Xcohex 50us phase 0 processed  0.625187  ['Could not fit well, redchi = 18.71']\n",
      "   1  test_data  r1op bsb delay scan after sbc Xcohex 80us phase 0 processed  0.749131  []\n",
      "   2  test_data  r1op bsb delay scan after sbc_processed                      1         ['Could not fit well, redchi = 6503.39']\n",
      "   3  test_data  r1op rsb delay scan after sbc 5r1op_processed                          ['zero sigma']\n"
     ]
    }
   ],
   "source": [
    "w1 = WFM.WignerFunc_Measurement(fpath,debug=1)\n",
    "w1.setup_sbs()\n",
    "w1.print_report()"
   ]
  },
  {
   "cell_type": "code",
   "execution_count": 4,
   "id": "dce94700",
   "metadata": {
    "ExecuteTime": {
     "end_time": "2021-11-19T05:07:24.009954Z",
     "start_time": "2021-11-19T05:07:23.964224Z"
    }
   },
   "outputs": [
    {
     "name": "stderr",
     "output_type": "stream",
     "text": [
      "SBM: Set weight when fitting sb ../tests/test_data/r1op bsb delay scan after sbc Xcohex 50us phase 0 processed\n",
      "SBM: Evaluate parity of ../tests/test_data/r1op bsb delay scan after sbc Xcohex 50us phase 0 processed\n"
     ]
    },
    {
     "name": "stdout",
     "output_type": "stream",
     "text": [
      "Refitting Sideband measurement ../tests/test_data/r1op bsb delay scan after sbc Xcohex 50us phase 0 processed\n"
     ]
    }
   ],
   "source": [
    "weights = [0, 0, 1, 0, 0]\n",
    "\n",
    "w1.refit(0,weights=weights)"
   ]
  },
  {
   "cell_type": "code",
   "execution_count": 5,
   "id": "41444d2d",
   "metadata": {
    "ExecuteTime": {
     "end_time": "2021-11-19T05:07:24.015772Z",
     "start_time": "2021-11-19T05:07:24.012027Z"
    }
   },
   "outputs": [
    {
     "name": "stdout",
     "output_type": "stream",
     "text": [
      "Report summary \n",
      "\n",
      "  id  folder     filename                                                       parity  Errors\n",
      "----  ---------  -----------------------------------------------------------  --------  ----------------------------------------\n",
      "   0  test_data  r1op bsb delay scan after sbc Xcohex 50us phase 0 processed  0.814109  ['Could not fit well, redchi = 11.31']\n",
      "   1  test_data  r1op bsb delay scan after sbc Xcohex 80us phase 0 processed  0.749131  []\n",
      "   2  test_data  r1op bsb delay scan after sbc_processed                      1         ['Could not fit well, redchi = 6503.39']\n",
      "   3  test_data  r1op rsb delay scan after sbc 5r1op_processed                          ['zero sigma']\n"
     ]
    }
   ],
   "source": [
    "w1.print_report()"
   ]
  },
  {
   "cell_type": "code",
   "execution_count": 6,
   "id": "9460c069",
   "metadata": {
    "ExecuteTime": {
     "end_time": "2021-11-19T05:25:34.462388Z",
     "start_time": "2021-11-19T05:25:34.455443Z"
    }
   },
   "outputs": [],
   "source": [
    "import logging\n",
    "logging.basicConfig(level=logging.WARNING)\n",
    "class A:\n",
    "    def __init__(self):\n",
    "        b= B()\n",
    "        self.logger = logging.getLogger(__name__)\n",
    "        try:\n",
    "            b.dosomething()\n",
    "        except Exception as err:\n",
    "            self.logger.error(err)\n",
    "            pass\n",
    "        \n",
    "class B:\n",
    "    def __init__(self):\n",
    "        self.logger = logging.getLogger(__name__)\n",
    "    def dosomething(self):\n",
    "        try:\n",
    "            1/0\n",
    "        except Exception as err:\n",
    "            self.logger.warning('error in B')\n",
    "            self.logger.error(err)\n",
    "            raise err\n",
    "\n",
    "            "
   ]
  },
  {
   "cell_type": "code",
   "execution_count": 7,
   "id": "d8c4dba4",
   "metadata": {
    "ExecuteTime": {
     "end_time": "2021-11-19T05:25:34.657274Z",
     "start_time": "2021-11-19T05:25:34.644518Z"
    }
   },
   "outputs": [
    {
     "name": "stderr",
     "output_type": "stream",
     "text": [
      "WARNING:__main__:error in B\n",
      "ERROR:__main__:division by zero\n",
      "ERROR:__main__:division by zero\n"
     ]
    }
   ],
   "source": [
    "\n",
    "a= A()\n"
   ]
  },
  {
   "cell_type": "code",
   "execution_count": 8,
   "id": "66bd980c",
   "metadata": {},
   "outputs": [],
   "source": [
    "ftest = '/tests/test_data/r1op bsb delay scan after sbc Xcohex 50us phase 0 processed'\n",
    "(a,b)=ftest.split(\"/\")[-2:]\n"
   ]
  },
  {
   "cell_type": "code",
   "execution_count": 9,
   "metadata": {},
   "outputs": [
    {
     "name": "stdout",
     "output_type": "stream",
     "text": [
      "folder name :test_data, file name: r1op bsb delay scan after sbc Xcohex 50us phase 0 processed\n"
     ]
    }
   ],
   "source": [
    "print(f'folder name :{a}, file name: {b}')"
   ]
  },
  {
   "cell_type": "code",
   "execution_count": 10,
   "metadata": {},
   "outputs": [],
   "source": [
    "import logging\n",
    "\n",
    "logger = logging.getLogger()\n",
    "c_handler = logging.StreamHandler()\n",
    "c_format = logging.Formatter('Test %(message)s')\n",
    "c_handler.setFormatter(c_format)\n",
    "logger.addHandler(c_handler)"
   ]
  },
  {
   "cell_type": "code",
   "execution_count": 11,
   "metadata": {},
   "outputs": [
    {
     "name": "stderr",
     "output_type": "stream",
     "text": [
      "ERROR:root:log this\n",
      "Test log this\n"
     ]
    }
   ],
   "source": [
    "logger.error('log this')"
   ]
  },
  {
   "cell_type": "code",
   "execution_count": null,
   "metadata": {},
   "outputs": [],
   "source": []
  }
 ],
 "metadata": {
  "interpreter": {
   "hash": "31f2aee4e71d21fbe5cf8b01ff0e069b9275f58929596ceb00d14d90e3e16cd6"
  },
  "kernelspec": {
   "display_name": "Python 3.8.10 64-bit",
   "name": "python3"
  },
  "language_info": {
   "codemirror_mode": {
    "name": "ipython",
    "version": 3
   },
   "file_extension": ".py",
   "mimetype": "text/x-python",
   "name": "python",
   "nbconvert_exporter": "python",
   "pygments_lexer": "ipython3",
   "version": "3.8.10"
  },
  "toc": {
   "base_numbering": 1,
   "nav_menu": {
    "height": "134px",
    "width": "195.133px"
   },
   "number_sections": true,
   "sideBar": true,
   "skip_h1_title": false,
   "title_cell": "Table of Contents",
   "title_sidebar": "Contents",
   "toc_cell": false,
   "toc_position": {},
   "toc_section_display": true,
   "toc_window_display": false
  }
 },
 "nbformat": 4,
 "nbformat_minor": 5
}
